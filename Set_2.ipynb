{
 "cells": [
  {
   "cell_type": "code",
   "execution_count": 1,
   "id": "1f2e08dd",
   "metadata": {},
   "outputs": [],
   "source": [
    "from scipy import stats"
   ]
  },
  {
   "cell_type": "code",
   "execution_count": 2,
   "id": "a9e92ac3",
   "metadata": {},
   "outputs": [
    {
     "name": "stdout",
     "output_type": "stream",
     "text": [
      "mean Profit is rs 540 million\n"
     ]
    }
   ],
   "source": [
    "mean = 5+7\n",
    "print('mean Profit is rs', mean*45,'million')"
   ]
  },
  {
   "cell_type": "code",
   "execution_count": 4,
   "id": "0fd49cda",
   "metadata": {},
   "outputs": [],
   "source": [
    "import numpy as np"
   ]
  },
  {
   "cell_type": "code",
   "execution_count": 5,
   "id": "8df34bfe",
   "metadata": {},
   "outputs": [
    {
     "name": "stdout",
     "output_type": "stream",
     "text": [
      "standard Deviation is rs 225.0 million\n"
     ]
    }
   ],
   "source": [
    "SD = np.sqrt((9)+(16))\n",
    "print('standard Deviation is rs', SD*45, 'million')"
   ]
  },
  {
   "cell_type": "code",
   "execution_count": 6,
   "id": "320df283",
   "metadata": {},
   "outputs": [
    {
     "name": "stdout",
     "output_type": "stream",
     "text": [
      "range is rs (99.00810347848784, 980.9918965215122) in millions\n"
     ]
    }
   ],
   "source": [
    "print('range is rs',(stats.norm.interval(0.95,540,225)),'in millions')"
   ]
  },
  {
   "cell_type": "code",
   "execution_count": 9,
   "id": "24a1262b",
   "metadata": {},
   "outputs": [
    {
     "data": {
      "text/plain": [
       "0.0477903522728147"
      ]
     },
     "execution_count": 9,
     "metadata": {},
     "output_type": "execute_result"
    }
   ],
   "source": [
    "stats.norm.cdf(0,5,3)"
   ]
  },
  {
   "cell_type": "code",
   "execution_count": 10,
   "id": "de6edc7d",
   "metadata": {},
   "outputs": [
    {
     "data": {
      "text/plain": [
       "0.040059156863817086"
      ]
     },
     "execution_count": 10,
     "metadata": {},
     "output_type": "execute_result"
    }
   ],
   "source": [
    "stats.norm.cdf(0,7,4)"
   ]
  },
  {
   "cell_type": "code",
   "execution_count": null,
   "id": "c145f08c",
   "metadata": {},
   "outputs": [],
   "source": []
  }
 ],
 "metadata": {
  "kernelspec": {
   "display_name": "Python 3",
   "language": "python",
   "name": "python3"
  },
  "language_info": {
   "codemirror_mode": {
    "name": "ipython",
    "version": 3
   },
   "file_extension": ".py",
   "mimetype": "text/x-python",
   "name": "python",
   "nbconvert_exporter": "python",
   "pygments_lexer": "ipython3",
   "version": "3.8.8"
  }
 },
 "nbformat": 4,
 "nbformat_minor": 5
}
